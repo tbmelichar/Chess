{
 "cells": [
  {
   "cell_type": "code",
   "execution_count": null,
   "metadata": {},
   "outputs": [
    {
     "name": "stdout",
     "output_type": "stream",
     "text": [
      "bool Board::is_enemy_rook_at(const Location& loc, const char& my_colour) const {\n",
      "  Piece* p = get_piece_at(loc);\n",
      "  if(!p) {return false};\n",
      "  if(p->get_colour() == my_colour) {return false};\n",
      "  if(p->get_hollow_symbol() == \"♖\") {return true;}\n",
      "  return false;\n",
      "}\n",
      "\n",
      "bool Board::is_enemy_knight_at(const Location& loc, const char& my_colour) const {\n",
      "  Piece* p = get_piece_at(loc);\n",
      "  if(!p) {return false};\n",
      "  if(p->get_colour() == my_colour) {return false};\n",
      "  if(p->get_hollow_symbol() == \"♘\") {return true;}\n",
      "  return false;\n",
      "}\n",
      "\n",
      "bool Board::is_enemy_bishop_at(const Location& loc, const char& my_colour) const {\n",
      "  Piece* p = get_piece_at(loc);\n",
      "  if(!p) {return false};\n",
      "  if(p->get_colour() == my_colour) {return false};\n",
      "  if(p->get_hollow_symbol() == \"♗\") {return true;}\n",
      "  return false;\n",
      "}\n",
      "\n",
      "bool Board::is_enemy_queen_at(const Location& loc, const char& my_colour) const {\n",
      "  Piece* p = get_piece_at(loc);\n",
      "  if(!p) {return false};\n",
      "  if(p->get_colour() == my_colour) {return false};\n",
      "  if(p->get_hollow_symbol() == \"♕\") {return true;}\n",
      "  return false;\n",
      "}\n",
      "\n",
      "bool Board::is_enemy_king_at(const Location& loc, const char& my_colour) const {\n",
      "  Piece* p = get_piece_at(loc);\n",
      "  if(!p) {return false};\n",
      "  if(p->get_colour() == my_colour) {return false};\n",
      "  if(p->get_hollow_symbol() == \"♔\") {return true;}\n",
      "  return false;\n",
      "}\n",
      "\n",
      "bool Board::is_enemy_pawn_at(const Location& loc, const char& my_colour) const {\n",
      "  Piece* p = get_piece_at(loc);\n",
      "  if(!p) {return false};\n",
      "  if(p->get_colour() == my_colour) {return false};\n",
      "  if(p->get_hollow_symbol() == \"♙\") {return true;}\n",
      "  return false;\n",
      "}\n",
      "\n"
     ]
    }
   ],
   "source": [
    "symbols = '♖♘♗♕♔♙'\n",
    "names = ['rook', 'knight', 'bishop', 'queen', 'king', 'pawn']\n",
    "ob = r'{'\n",
    "cb = r'}'\n",
    "\n",
    "def printer(name, symbol):\n",
    "  print(\n",
    "f'''bool Board::is_enemy_{name}_at(const Location& loc, const char& my_colour) const {ob}\n",
    "  Piece* p = get_piece_at(loc);\n",
    "  if(!p) {ob}return false;{cb}\n",
    "  if(p->get_colour() == my_colour) {ob}return false;{cb}\n",
    "  if(p->get_hollow_symbol() == \"{symbol}\") {ob}return true;{cb}\n",
    "  return false;\n",
    "{cb}\n",
    "'''\n",
    "  )\n",
    "\n",
    "for name, symbol in zip(names, symbols): printer(name, symbol)"
   ]
  },
  {
   "cell_type": "code",
   "execution_count": null,
   "metadata": {},
   "outputs": [
    {
     "name": "stdout",
     "output_type": "stream",
     "text": [
      "{ }\n"
     ]
    }
   ],
   "source": []
  }
 ],
 "metadata": {
  "kernelspec": {
   "display_name": "Python 3",
   "language": "python",
   "name": "python3"
  },
  "language_info": {
   "codemirror_mode": {
    "name": "ipython",
    "version": 3
   },
   "file_extension": ".py",
   "mimetype": "text/x-python",
   "name": "python",
   "nbconvert_exporter": "python",
   "pygments_lexer": "ipython3",
   "version": "3.9.6"
  }
 },
 "nbformat": 4,
 "nbformat_minor": 2
}
